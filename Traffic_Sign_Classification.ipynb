{
  "nbformat": 4,
  "nbformat_minor": 0,
  "metadata": {
    "colab": {
      "name": "Traffic Sign Classification.ipynb",
      "provenance": [],
      "collapsed_sections": [],
      "toc_visible": true
    },
    "kernelspec": {
      "name": "python3",
      "display_name": "Python 3"
    },
    "accelerator": "GPU"
  },
  "cells": [
    {
      "cell_type": "markdown",
      "metadata": {
        "id": "c9JdYuaik6pc",
        "colab_type": "text"
      },
      "source": [
        "# Import the necessary dependencies "
      ]
    },
    {
      "cell_type": "markdown",
      "metadata": {
        "id": "V08WnIZG446_",
        "colab_type": "text"
      },
      "source": [
        "### Setting TensorFlow 2.x as default version "
      ]
    },
    {
      "cell_type": "code",
      "metadata": {
        "id": "Lzzsza-ylniV",
        "colab_type": "code",
        "colab": {}
      },
      "source": [
        "try:\n",
        "    %tensorflow_version 2.x\n",
        "except Exception:\n",
        "    pass\n",
        "\n",
        "import tensorflow as tf"
      ],
      "execution_count": 0,
      "outputs": []
    },
    {
      "cell_type": "markdown",
      "metadata": {
        "id": "V8_o8BrZ5Hna",
        "colab_type": "text"
      },
      "source": [
        "### Importing the Visualisation and Preprocessing packages"
      ]
    },
    {
      "cell_type": "code",
      "metadata": {
        "id": "PM-bq2prNTeq",
        "colab_type": "code",
        "colab": {}
      },
      "source": [
        "%matplotlib inline\n",
        "import matplotlib.pyplot as plt\n",
        "import matplotlib.image as mpimg\n",
        "\n",
        "import os\n",
        "import cv2\n",
        "\n",
        "import numpy as np\n",
        "import pandas as pd\n",
        "import pickle\n",
        "\n",
        "import random\n"
      ],
      "execution_count": 0,
      "outputs": []
    },
    {
      "cell_type": "markdown",
      "metadata": {
        "id": "4s24Ooy07DNB",
        "colab_type": "text"
      },
      "source": [
        "### Importing the TensorFlow dependencies"
      ]
    },
    {
      "cell_type": "code",
      "metadata": {
        "id": "TvGg5k5oNWIT",
        "colab_type": "code",
        "colab": {}
      },
      "source": [
        "from tensorflow.keras.models import Sequential \n",
        "from tensorflow.keras.layers import Dense,Dropout,Flatten\n",
        "from tensorflow.keras.layers import BatchNormalization,Conv2D,MaxPooling2D\n",
        "from tensorflow.keras.utils import to_categorical \n",
        "from tensorflow.keras.optimizers import Adam\n",
        "from tensorflow.keras.callbacks import ModelCheckpoint\n",
        "from tensorflow.keras.regularizers import l2\n",
        "from tensorflow.keras.preprocessing.image import ImageDataGenerator "
      ],
      "execution_count": 0,
      "outputs": []
    },
    {
      "cell_type": "markdown",
      "metadata": {
        "id": "kT2r-te9kyDE",
        "colab_type": "text"
      },
      "source": [
        "# Data loading and Visualisation "
      ]
    },
    {
      "cell_type": "markdown",
      "metadata": {
        "id": "Rw3x3K3VlXbC",
        "colab_type": "text"
      },
      "source": [
        "### Loading the data"
      ]
    },
    {
      "cell_type": "code",
      "metadata": {
        "id": "ratYoPLONYND",
        "colab_type": "code",
        "outputId": "702bf1e5-b366-47f3-e52c-ecc379ae9ad0",
        "colab": {
          "base_uri": "https://localhost:8080/",
          "height": 72
        }
      },
      "source": [
        "#data = pd.read_csv(\"german-traffic-signs / signnames.csv\") \n",
        "  \n",
        "with open('/content/drive/My Drive/Traffic_sign_Dataset/train.p', 'rb') as f: \n",
        "    train_data = pickle.load(f) \n",
        "with open('/content/drive/My Drive/Traffic_sign_Dataset/valid.p', 'rb') as f: \n",
        "    val_data = pickle.load(f) \n",
        "with open('/content/drive/My Drive/Traffic_sign_Dataset/test.p', 'rb') as f: \n",
        "    test_data = pickle.load(f) \n",
        "\n",
        "# Extracting the labels from the dictionaries \n",
        "x_train, y_train = train_data['features'], train_data['labels'] \n",
        "x_val, y_val = val_data['features'], val_data['labels'] \n",
        "x_test, y_test = test_data['features'], test_data['labels'] \n",
        "\n",
        "print(x_train.shape) \n",
        "print(x_val.shape) \n",
        "print(x_test.shape) "
      ],
      "execution_count": 0,
      "outputs": [
        {
          "output_type": "stream",
          "text": [
            "(34799, 32, 32, 3)\n",
            "(4410, 32, 32, 3)\n",
            "(12630, 32, 32, 3)\n"
          ],
          "name": "stdout"
        }
      ]
    },
    {
      "cell_type": "markdown",
      "metadata": {
        "id": "N9Z2-7iellY6",
        "colab_type": "text"
      },
      "source": [
        "### Visualising the Image data"
      ]
    },
    {
      "cell_type": "code",
      "metadata": {
        "id": "lBhvXPIgNYTB",
        "colab_type": "code",
        "outputId": "a137c686-79be-4449-a9db-71f37000a1fe",
        "colab": {
          "base_uri": "https://localhost:8080/",
          "height": 592
        }
      },
      "source": [
        "import seaborn as sns\n",
        "import matplotlib.pyplot as plt\n",
        "\n",
        "plt.figure(figsize=(15,10))\n",
        "sns.countplot(x=\"labels\", data=train_data)\n",
        "sns.despine()"
      ],
      "execution_count": 0,
      "outputs": [
        {
          "output_type": "display_data",
          "data": {
            "image/png": "[encoded data removed]",
            "text/plain": [
              "<Figure size 1080x720 with 1 Axes>"
            ]
          },
          "metadata": {
            "tags": [],
            "needs_background": "light"
          }
        }
      ]
    },
    {
      "cell_type": "markdown",
      "metadata": {
        "id": "TfYNP0v54w4I",
        "colab_type": "text"
      },
      "source": [
        "# Image Processing & Image Augmentation"
      ]
    },
    {
      "cell_type": "markdown",
      "metadata": {
        "id": "AjGV9p6vl47S",
        "colab_type": "text"
      },
      "source": [
        "### Pre-processing the images using OpenCV"
      ]
    },
    {
      "cell_type": "code",
      "metadata": {
        "id": "mHM2g4w9NcqR",
        "colab_type": "code",
        "colab": {}
      },
      "source": [
        "def preprocessing(img): \n",
        "    img = cv2.cvtColor(img, cv2.COLOR_BGR2GRAY) \n",
        "    img = cv2.equalizeHist(img) \n",
        "    img = img / 255\n",
        "    return img \n",
        "  \n",
        "x_train_final = np.array(list(map(preprocessing, x_train))) \n",
        "x_val_final = np.array(list(map(preprocessing, x_val))) \n",
        "x_test_final = np.array(list(map(preprocessing, x_test))) \n",
        "  \n",
        "x_train_final = x_train_final.reshape(34799, 32, 32, 1) \n",
        "x_val_final = x_val_final.reshape(4410, 32, 32, 1) \n",
        "x_test_final = x_test_final.reshape(12630, 32, 32, 1) \n"
      ],
      "execution_count": 0,
      "outputs": []
    },
    {
      "cell_type": "markdown",
      "metadata": {
        "id": "iPxFmAwhmAiB",
        "colab_type": "text"
      },
      "source": [
        "### Image Augmentation using ImageDataGenerator"
      ]
    },
    {
      "cell_type": "code",
      "metadata": {
        "id": "FzFRYvCXNekZ",
        "colab_type": "code",
        "outputId": "514926e7-6de1-4bbe-ab60-d33960620de8",
        "colab": {
          "base_uri": "https://localhost:8080/",
          "height": 192
        }
      },
      "source": [
        "\n",
        "datagen = ImageDataGenerator(width_shift_range = 0.1,  \n",
        "                  height_shift_range = 0.1,  \n",
        "                  zoom_range = 0.2,  \n",
        "                  shear_range = 0.1,  \n",
        "                  rotation_range = 10) \n",
        "\n",
        "datagen.fit(x_train_final) \n",
        "\n",
        "#os.makedirs('/content/drive/My Drive/Traffic_sign_Dataset/images')\n",
        "\n",
        "for x_batch,y_batch in datagen.flow(x_train_final,y_train,batch_size=6,save_to_dir='/content/drive/My Drive/Traffic_sign_Dataset/images',save_prefix='img', save_format='jpg'):\n",
        "    for i in range(0, 6):\n",
        "        plt.subplot(330 + 1 + i)\n",
        "        plt.imshow(x_batch[i].reshape(32, 32), cmap=plt.get_cmap('gray'))\n",
        "\n",
        "    plt.show()\n",
        "    break\n",
        "\n",
        "y_train = to_categorical(y_train, 43) \n",
        "y_val = to_categorical(y_val, 43) \n",
        "y_test = to_categorical(y_test, 43) \n"
      ],
      "execution_count": 0,
      "outputs": [
        {
          "output_type": "display_data",
          "data": {
            "image/png": "[encoded data removed]",
            "text/plain": [
              "<Figure size 432x288 with 6 Axes>"
            ]
          },
          "metadata": {
            "tags": [],
            "needs_background": "light"
          }
        }
      ]
    },
    {
      "cell_type": "markdown",
      "metadata": {
        "id": "2RzYgcur4qyK",
        "colab_type": "text"
      },
      "source": [
        "# Model Building and Testing "
      ]
    },
    {
      "cell_type": "markdown",
      "metadata": {
        "id": "DYp8FoCtmRO7",
        "colab_type": "text"
      },
      "source": [
        "### Implementing the CNN Model "
      ]
    },
    {
      "cell_type": "code",
      "metadata": {
        "id": "TAmuD6XvNn9S",
        "colab_type": "code",
        "colab": {}
      },
      "source": [
        "def build_model(hp):\n",
        "    model = Sequential()\n",
        "\n",
        "    # Layer 1 \n",
        "    model.add(Conv2D(filters=hp.Int('CONV_1_FILTER',min_value=32, max_value=64),\n",
        "                     kernel_size=hp.Choice('KERNEL_1_FILTER', values=[3,5]),\n",
        "                     activation='relu',\n",
        "                     input_shape=(32,32,1), \n",
        "                     padding='same',\n",
        "                     kernel_regularizer = l2(0.0005)\n",
        "                     ))\n",
        "    model.add(MaxPooling2D(pool_size=(2, 2)))\n",
        "    model.add(Dropout(hp.Float('DROPOUT_1', min_value=0.0,max_value=0.5,default=0.25,step=0.05)))\n",
        "\n",
        "    \n",
        "    # Layer 2 \n",
        "    model.add(Conv2D(filters=hp.Int('CONV_2_FILTER',min_value=32, max_value=128),\n",
        "                     kernel_size=hp.Choice('KERNEL_2_FILTER', values=[3,5]),\n",
        "                     activation='relu',\n",
        "                     padding='same',\n",
        "                     kernel_regularizer = l2(0.0005)\n",
        "                     ))\n",
        "    model.add(MaxPooling2D(pool_size=(2, 2)))\n",
        "    model.add(Dropout(hp.Float('DROPOUT_2', min_value=0.0,max_value=0.5,default=0.25,step=0.05)))\n",
        "\n",
        "\n",
        "    # Layer 3\n",
        "    model.add(Conv2D(filters=hp.Int('CONV_3_FILTER',min_value=32, max_value=128),\n",
        "                     kernel_size=hp.Choice('KERNEL_3_FILTER', values=[3,5]),\n",
        "                     activation='relu',\n",
        "                     padding='same',\n",
        "                     kernel_regularizer = l2(0.0005)\n",
        "                     ))\n",
        "    model.add(MaxPooling2D(pool_size=(2, 2)))\n",
        "    model.add(Dropout(hp.Float('DROPOUT_3', min_value=0.0,max_value=0.5,default=0.25,step=0.05)))\n",
        "\n",
        "    \n",
        "    model.add(Flatten())\n",
        "\n",
        "    \n",
        "    model.add(Dense(hp.Int('DENSE_1_LAYER', \n",
        "                           min_value=32, \n",
        "                           max_value=512),\n",
        "                    \n",
        "                    activation = hp.Choice(\n",
        "                    'dense_activation',\n",
        "                    values=['relu', 'tanh', 'sigmoid'],\n",
        "                    default='relu')\n",
        "    ))\n",
        "    model.add(Dropout(hp.Float('DROPOUT_2', min_value=0.0,max_value=0.5,default=0.25,step=0.05)))\n",
        "\n",
        "    model.add(Dense(43, activation='softmax'))\n",
        "\n",
        "    # Learning Rate set between 0.0001 to 0.01\n",
        "    model.compile(Adam(hp.Float(\n",
        "                    'learning_rate',\n",
        "                    min_value=1e-4,\n",
        "                    max_value=1e-2,\n",
        "                    sampling='LOG')),\n",
        "                    loss='categorical_crossentropy', metrics=['accuracy'])\n",
        "    \n",
        "    return model\n",
        "    "
      ],
      "execution_count": 0,
      "outputs": []
    },
    {
      "cell_type": "markdown",
      "metadata": {
        "id": "_iAy7irdmXnE",
        "colab_type": "text"
      },
      "source": [
        "### Install Kerastuner"
      ]
    },
    {
      "cell_type": "code",
      "metadata": {
        "id": "0NOnz_nWej7m",
        "colab_type": "code",
        "outputId": "c33dae2f-909d-422d-e486-354a0b1e4bd3",
        "colab": {
          "base_uri": "https://localhost:8080/",
          "height": 313
        }
      },
      "source": [
        "!pip install keras-tuner"
      ],
      "execution_count": 0,
      "outputs": [
        {
          "output_type": "stream",
          "text": [
            "Requirement already satisfied: keras-tuner in /usr/local/lib/python3.6/dist-packages (1.0.1)\n",
            "Requirement already satisfied: scipy in /usr/local/lib/python3.6/dist-packages (from keras-tuner) (1.4.1)\n",
            "Requirement already satisfied: terminaltables in /usr/local/lib/python3.6/dist-packages (from keras-tuner) (3.1.0)\n",
            "Requirement already satisfied: requests in /usr/local/lib/python3.6/dist-packages (from keras-tuner) (2.23.0)\n",
            "Requirement already satisfied: colorama in /usr/local/lib/python3.6/dist-packages (from keras-tuner) (0.4.3)\n",
            "Requirement already satisfied: scikit-learn in /usr/local/lib/python3.6/dist-packages (from keras-tuner) (0.22.2.post1)\n",
            "Requirement already satisfied: tabulate in /usr/local/lib/python3.6/dist-packages (from keras-tuner) (0.8.7)\n",
            "Requirement already satisfied: tqdm in /usr/local/lib/python3.6/dist-packages (from keras-tuner) (4.41.1)\n",
            "Requirement already satisfied: future in /usr/local/lib/python3.6/dist-packages (from keras-tuner) (0.16.0)\n",
            "Requirement already satisfied: numpy in /usr/local/lib/python3.6/dist-packages (from keras-tuner) (1.18.4)\n",
            "Requirement already satisfied: chardet<4,>=3.0.2 in /usr/local/lib/python3.6/dist-packages (from requests->keras-tuner) (3.0.4)\n",
            "Requirement already satisfied: urllib3!=1.25.0,!=1.25.1,<1.26,>=1.21.1 in /usr/local/lib/python3.6/dist-packages (from requests->keras-tuner) (1.24.3)\n",
            "Requirement already satisfied: idna<3,>=2.5 in /usr/local/lib/python3.6/dist-packages (from requests->keras-tuner) (2.9)\n",
            "Requirement already satisfied: certifi>=2017.4.17 in /usr/local/lib/python3.6/dist-packages (from requests->keras-tuner) (2020.4.5.1)\n",
            "Requirement already satisfied: joblib>=0.11 in /usr/local/lib/python3.6/dist-packages (from scikit-learn->keras-tuner) (0.14.1)\n"
          ],
          "name": "stdout"
        }
      ]
    },
    {
      "cell_type": "markdown",
      "metadata": {
        "id": "Yt4Sbm9QmbzE",
        "colab_type": "text"
      },
      "source": [
        "### Use RandomSearch using keraatuner to find the best hyperparameters"
      ]
    },
    {
      "cell_type": "code",
      "metadata": {
        "id": "sf0qjmbaec12",
        "colab_type": "code",
        "colab": {}
      },
      "source": [
        "from kerastuner import RandomSearch"
      ],
      "execution_count": 0,
      "outputs": []
    },
    {
      "cell_type": "code",
      "metadata": {
        "id": "gsRJmmZheopH",
        "colab_type": "code",
        "outputId": "196fd8a5-50df-4640-e1fa-449f3cf4a31c",
        "colab": {
          "base_uri": "https://localhost:8080/",
          "height": 74
        }
      },
      "source": [
        "tuner = RandomSearch(build_model, objective='val_accuracy',\n",
        "                     max_trials = 10, \n",
        "                     directory='/content/drive/My Drive/Traffic_sign_Dataset',\n",
        "                     project_name=\"Traffic_Sign_Classifier\")"
      ],
      "execution_count": 0,
      "outputs": [
        {
          "output_type": "stream",
          "text": [
            "INFO:tensorflow:Reloading Oracle from existing project /content/drive/My Drive/Traffic_sign_Dataset/Traffic_Sign_Classifier/oracle.json\n",
            "INFO:tensorflow:Reloading Tuner from /content/drive/My Drive/Traffic_sign_Dataset/Traffic_Sign_Classifier/tuner0.json\n"
          ],
          "name": "stdout"
        }
      ]
    },
    {
      "cell_type": "code",
      "metadata": {
        "id": "vyB3qo7Nh15E",
        "colab_type": "code",
        "outputId": "11eeefa3-c1b8-4d7e-a0ef-f89990956b16",
        "colab": {
          "base_uri": "https://localhost:8080/",
          "height": 1000
        }
      },
      "source": [
        "tuner.search_space_summary()"
      ],
      "execution_count": 0,
      "outputs": [
        {
          "output_type": "display_data",
          "data": {
            "text/html": [
              "<span style=\"color:#4527A0\"><h1 style=\"font-size:18px\">Search space summary</h1></span>"
            ],
            "text/plain": [
              "<IPython.core.display.HTML object>"
            ]
          },
          "metadata": {
            "tags": []
          }
        },
        {
          "output_type": "display_data",
          "data": {
            "text/html": [
              "<span style=\"color:cyan\"> |-Default search space size: 12</span>"
            ],
            "text/plain": [
              "<IPython.core.display.HTML object>"
            ]
          },
          "metadata": {
            "tags": []
          }
        },
        {
          "output_type": "display_data",
          "data": {
            "text/html": [
              "<span style=\"color:#7E57C2\"><h2 style=\"font-size:16px\">CONV_1_FILTER (Int)</h2></span>"
            ],
            "text/plain": [
              "<IPython.core.display.HTML object>"
            ]
          },
          "metadata": {
            "tags": []
          }
        },
        {
          "output_type": "display_data",
          "data": {
            "text/html": [
              "<span style=\"color:cyan\"> |-default: None</span>"
            ],
            "text/plain": [
              "<IPython.core.display.HTML object>"
            ]
          },
          "metadata": {
            "tags": []
          }
        },
        {
          "output_type": "display_data",
          "data": {
            "text/html": [
              "<span style=\"color:blue\"> |-max_value: 64</span>"
            ],
            "text/plain": [
              "<IPython.core.display.HTML object>"
            ]
          },
          "metadata": {
            "tags": []
          }
        },
        {
          "output_type": "display_data",
          "data": {
            "text/html": [
              "<span style=\"color:cyan\"> |-min_value: 32</span>"
            ],
            "text/plain": [
              "<IPython.core.display.HTML object>"
            ]
          },
          "metadata": {
            "tags": []
          }
        },
        {
          "output_type": "display_data",
          "data": {
            "text/html": [
              "<span style=\"color:blue\"> |-sampling: None</span>"
            ],
            "text/plain": [
              "<IPython.core.display.HTML object>"
            ]
          },
          "metadata": {
            "tags": []
          }
        },
        {
          "output_type": "display_data",
          "data": {
            "text/html": [
              "<span style=\"color:cyan\"> |-step: 1</span>"
            ],
            "text/plain": [
              "<IPython.core.display.HTML object>"
            ]
          },
          "metadata": {
            "tags": []
          }
        },
        {
          "output_type": "display_data",
          "data": {
            "text/html": [
              "<span style=\"color:#7E57C2\"><h2 style=\"font-size:16px\">KERNEL_1_FILTER (Choice)</h2></span>"
            ],
            "text/plain": [
              "<IPython.core.display.HTML object>"
            ]
          },
          "metadata": {
            "tags": []
          }
        },
        {
          "output_type": "display_data",
          "data": {
            "text/html": [
              "<span style=\"color:cyan\"> |-default: 3</span>"
            ],
            "text/plain": [
              "<IPython.core.display.HTML object>"
            ]
          },
          "metadata": {
            "tags": []
          }
        },
        {
          "output_type": "display_data",
          "data": {
            "text/html": [
              "<span style=\"color:blue\"> |-ordered: True</span>"
            ],
            "text/plain": [
              "<IPython.core.display.HTML object>"
            ]
          },
          "metadata": {
            "tags": []
          }
        },
        {
          "output_type": "display_data",
          "data": {
            "text/html": [
              "<span style=\"color:cyan\"> |-values: [3, 5]</span>"
            ],
            "text/plain": [
              "<IPython.core.display.HTML object>"
            ]
          },
          "metadata": {
            "tags": []
          }
        },
        {
          "output_type": "display_data",
          "data": {
            "text/html": [
              "<span style=\"color:#7E57C2\"><h2 style=\"font-size:16px\">DROPOUT_1 (Float)</h2></span>"
            ],
            "text/plain": [
              "<IPython.core.display.HTML object>"
            ]
          },
          "metadata": {
            "tags": []
          }
        },
        {
          "output_type": "display_data",
          "data": {
            "text/html": [
              "<span style=\"color:cyan\"> |-default: 0.25</span>"
            ],
            "text/plain": [
              "<IPython.core.display.HTML object>"
            ]
          },
          "metadata": {
            "tags": []
          }
        },
        {
          "output_type": "display_data",
          "data": {
            "text/html": [
              "<span style=\"color:blue\"> |-max_value: 0.5</span>"
            ],
            "text/plain": [
              "<IPython.core.display.HTML object>"
            ]
          },
          "metadata": {
            "tags": []
          }
        },
        {
          "output_type": "display_data",
          "data": {
            "text/html": [
              "<span style=\"color:cyan\"> |-min_value: 0.0</span>"
            ],
            "text/plain": [
              "<IPython.core.display.HTML object>"
            ]
          },
          "metadata": {
            "tags": []
          }
        },
        {
          "output_type": "display_data",
          "data": {
            "text/html": [
              "<span style=\"color:blue\"> |-sampling: None</span>"
            ],
            "text/plain": [
              "<IPython.core.display.HTML object>"
            ]
          },
          "metadata": {
            "tags": []
          }
        },
        {
          "output_type": "display_data",
          "data": {
            "text/html": [
              "<span style=\"color:cyan\"> |-step: 0.05</span>"
            ],
            "text/plain": [
              "<IPython.core.display.HTML object>"
            ]
          },
          "metadata": {
            "tags": []
          }
        },
        {
          "output_type": "display_data",
          "data": {
            "text/html": [
              "<span style=\"color:#7E57C2\"><h2 style=\"font-size:16px\">CONV_2_FILTER (Int)</h2></span>"
            ],
            "text/plain": [
              "<IPython.core.display.HTML object>"
            ]
          },
          "metadata": {
            "tags": []
          }
        },
        {
          "output_type": "display_data",
          "data": {
            "text/html": [
              "<span style=\"color:cyan\"> |-default: None</span>"
            ],
            "text/plain": [
              "<IPython.core.display.HTML object>"
            ]
          },
          "metadata": {
            "tags": []
          }
        },
        {
          "output_type": "display_data",
          "data": {
            "text/html": [
              "<span style=\"color:blue\"> |-max_value: 128</span>"
            ],
            "text/plain": [
              "<IPython.core.display.HTML object>"
            ]
          },
          "metadata": {
            "tags": []
          }
        },
        {
          "output_type": "display_data",
          "data": {
            "text/html": [
              "<span style=\"color:cyan\"> |-min_value: 32</span>"
            ],
            "text/plain": [
              "<IPython.core.display.HTML object>"
            ]
          },
          "metadata": {
            "tags": []
          }
        },
        {
          "output_type": "display_data",
          "data": {
            "text/html": [
              "<span style=\"color:blue\"> |-sampling: None</span>"
            ],
            "text/plain": [
              "<IPython.core.display.HTML object>"
            ]
          },
          "metadata": {
            "tags": []
          }
        },
        {
          "output_type": "display_data",
          "data": {
            "text/html": [
              "<span style=\"color:cyan\"> |-step: 1</span>"
            ],
            "text/plain": [
              "<IPython.core.display.HTML object>"
            ]
          },
          "metadata": {
            "tags": []
          }
        },
        {
          "output_type": "display_data",
          "data": {
            "text/html": [
              "<span style=\"color:#7E57C2\"><h2 style=\"font-size:16px\">KERNEL_2_FILTER (Choice)</h2></span>"
            ],
            "text/plain": [
              "<IPython.core.display.HTML object>"
            ]
          },
          "metadata": {
            "tags": []
          }
        },
        {
          "output_type": "display_data",
          "data": {
            "text/html": [
              "<span style=\"color:cyan\"> |-default: 3</span>"
            ],
            "text/plain": [
              "<IPython.core.display.HTML object>"
            ]
          },
          "metadata": {
            "tags": []
          }
        },
        {
          "output_type": "display_data",
          "data": {
            "text/html": [
              "<span style=\"color:blue\"> |-ordered: True</span>"
            ],
            "text/plain": [
              "<IPython.core.display.HTML object>"
            ]
          },
          "metadata": {
            "tags": []
          }
        },
        {
          "output_type": "display_data",
          "data": {
            "text/html": [
              "<span style=\"color:cyan\"> |-values: [3, 5]</span>"
            ],
            "text/plain": [
              "<IPython.core.display.HTML object>"
            ]
          },
          "metadata": {
            "tags": []
          }
        },
        {
          "output_type": "display_data",
          "data": {
            "text/html": [
              "<span style=\"color:#7E57C2\"><h2 style=\"font-size:16px\">DROPOUT_2 (Float)</h2></span>"
            ],
            "text/plain": [
              "<IPython.core.display.HTML object>"
            ]
          },
          "metadata": {
            "tags": []
          }
        },
        {
          "output_type": "display_data",
          "data": {
            "text/html": [
              "<span style=\"color:cyan\"> |-default: 0.25</span>"
            ],
            "text/plain": [
              "<IPython.core.display.HTML object>"
            ]
          },
          "metadata": {
            "tags": []
          }
        },
        {
          "output_type": "display_data",
          "data": {
            "text/html": [
              "<span style=\"color:blue\"> |-max_value: 0.5</span>"
            ],
            "text/plain": [
              "<IPython.core.display.HTML object>"
            ]
          },
          "metadata": {
            "tags": []
          }
        },
        {
          "output_type": "display_data",
          "data": {
            "text/html": [
              "<span style=\"color:cyan\"> |-min_value: 0.0</span>"
            ],
            "text/plain": [
              "<IPython.core.display.HTML object>"
            ]
          },
          "metadata": {
            "tags": []
          }
        },
        {
          "output_type": "display_data",
          "data": {
            "text/html": [
              "<span style=\"color:blue\"> |-sampling: None</span>"
            ],
            "text/plain": [
              "<IPython.core.display.HTML object>"
            ]
          },
          "metadata": {
            "tags": []
          }
        },
        {
          "output_type": "display_data",
          "data": {
            "text/html": [
              "<span style=\"color:cyan\"> |-step: 0.05</span>"
            ],
            "text/plain": [
              "<IPython.core.display.HTML object>"
            ]
          },
          "metadata": {
            "tags": []
          }
        },
        {
          "output_type": "display_data",
          "data": {
            "text/html": [
              "<span style=\"color:#7E57C2\"><h2 style=\"font-size:16px\">CONV_3_FILTER (Int)</h2></span>"
            ],
            "text/plain": [
              "<IPython.core.display.HTML object>"
            ]
          },
          "metadata": {
            "tags": []
          }
        },
        {
          "output_type": "display_data",
          "data": {
            "text/html": [
              "<span style=\"color:cyan\"> |-default: None</span>"
            ],
            "text/plain": [
              "<IPython.core.display.HTML object>"
            ]
          },
          "metadata": {
            "tags": []
          }
        },
        {
          "output_type": "display_data",
          "data": {
            "text/html": [
              "<span style=\"color:blue\"> |-max_value: 128</span>"
            ],
            "text/plain": [
              "<IPython.core.display.HTML object>"
            ]
          },
          "metadata": {
            "tags": []
          }
        },
        {
          "output_type": "display_data",
          "data": {
            "text/html": [
              "<span style=\"color:cyan\"> |-min_value: 32</span>"
            ],
            "text/plain": [
              "<IPython.core.display.HTML object>"
            ]
          },
          "metadata": {
            "tags": []
          }
        },
        {
          "output_type": "display_data",
          "data": {
            "text/html": [
              "<span style=\"color:blue\"> |-sampling: None</span>"
            ],
            "text/plain": [
              "<IPython.core.display.HTML object>"
            ]
          },
          "metadata": {
            "tags": []
          }
        },
        {
          "output_type": "display_data",
          "data": {
            "text/html": [
              "<span style=\"color:cyan\"> |-step: 1</span>"
            ],
            "text/plain": [
              "<IPython.core.display.HTML object>"
            ]
          },
          "metadata": {
            "tags": []
          }
        },
        {
          "output_type": "display_data",
          "data": {
            "text/html": [
              "<span style=\"color:#7E57C2\"><h2 style=\"font-size:16px\">KERNEL_3_FILTER (Choice)</h2></span>"
            ],
            "text/plain": [
              "<IPython.core.display.HTML object>"
            ]
          },
          "metadata": {
            "tags": []
          }
        },
        {
          "output_type": "display_data",
          "data": {
            "text/html": [
              "<span style=\"color:cyan\"> |-default: 3</span>"
            ],
            "text/plain": [
              "<IPython.core.display.HTML object>"
            ]
          },
          "metadata": {
            "tags": []
          }
        },
        {
          "output_type": "display_data",
          "data": {
            "text/html": [
              "<span style=\"color:blue\"> |-ordered: True</span>"
            ],
            "text/plain": [
              "<IPython.core.display.HTML object>"
            ]
          },
          "metadata": {
            "tags": []
          }
        },
        {
          "output_type": "display_data",
          "data": {
            "text/html": [
              "<span style=\"color:cyan\"> |-values: [3, 5]</span>"
            ],
            "text/plain": [
              "<IPython.core.display.HTML object>"
            ]
          },
          "metadata": {
            "tags": []
          }
        },
        {
          "output_type": "display_data",
          "data": {
            "text/html": [
              "<span style=\"color:#7E57C2\"><h2 style=\"font-size:16px\">DROPOUT_3 (Float)</h2></span>"
            ],
            "text/plain": [
              "<IPython.core.display.HTML object>"
            ]
          },
          "metadata": {
            "tags": []
          }
        },
        {
          "output_type": "display_data",
          "data": {
            "text/html": [
              "<span style=\"color:cyan\"> |-default: 0.25</span>"
            ],
            "text/plain": [
              "<IPython.core.display.HTML object>"
            ]
          },
          "metadata": {
            "tags": []
          }
        },
        {
          "output_type": "display_data",
          "data": {
            "text/html": [
              "<span style=\"color:blue\"> |-max_value: 0.5</span>"
            ],
            "text/plain": [
              "<IPython.core.display.HTML object>"
            ]
          },
          "metadata": {
            "tags": []
          }
        },
        {
          "output_type": "display_data",
          "data": {
            "text/html": [
              "<span style=\"color:cyan\"> |-min_value: 0.0</span>"
            ],
            "text/plain": [
              "<IPython.core.display.HTML object>"
            ]
          },
          "metadata": {
            "tags": []
          }
        },
        {
          "output_type": "display_data",
          "data": {
            "text/html": [
              "<span style=\"color:blue\"> |-sampling: None</span>"
            ],
            "text/plain": [
              "<IPython.core.display.HTML object>"
            ]
          },
          "metadata": {
            "tags": []
          }
        },
        {
          "output_type": "display_data",
          "data": {
            "text/html": [
              "<span style=\"color:cyan\"> |-step: 0.05</span>"
            ],
            "text/plain": [
              "<IPython.core.display.HTML object>"
            ]
          },
          "metadata": {
            "tags": []
          }
        },
        {
          "output_type": "display_data",
          "data": {
            "text/html": [
              "<span style=\"color:#7E57C2\"><h2 style=\"font-size:16px\">DENSE_1_LAYER (Int)</h2></span>"
            ],
            "text/plain": [
              "<IPython.core.display.HTML object>"
            ]
          },
          "metadata": {
            "tags": []
          }
        },
        {
          "output_type": "display_data",
          "data": {
            "text/html": [
              "<span style=\"color:cyan\"> |-default: None</span>"
            ],
            "text/plain": [
              "<IPython.core.display.HTML object>"
            ]
          },
          "metadata": {
            "tags": []
          }
        },
        {
          "output_type": "display_data",
          "data": {
            "text/html": [
              "<span style=\"color:blue\"> |-max_value: 512</span>"
            ],
            "text/plain": [
              "<IPython.core.display.HTML object>"
            ]
          },
          "metadata": {
            "tags": []
          }
        },
        {
          "output_type": "display_data",
          "data": {
            "text/html": [
              "<span style=\"color:cyan\"> |-min_value: 32</span>"
            ],
            "text/plain": [
              "<IPython.core.display.HTML object>"
            ]
          },
          "metadata": {
            "tags": []
          }
        },
        {
          "output_type": "display_data",
          "data": {
            "text/html": [
              "<span style=\"color:blue\"> |-sampling: None</span>"
            ],
            "text/plain": [
              "<IPython.core.display.HTML object>"
            ]
          },
          "metadata": {
            "tags": []
          }
        },
        {
          "output_type": "display_data",
          "data": {
            "text/html": [
              "<span style=\"color:cyan\"> |-step: 1</span>"
            ],
            "text/plain": [
              "<IPython.core.display.HTML object>"
            ]
          },
          "metadata": {
            "tags": []
          }
        },
        {
          "output_type": "display_data",
          "data": {
            "text/html": [
              "<span style=\"color:#7E57C2\"><h2 style=\"font-size:16px\">dense_activation (Choice)</h2></span>"
            ],
            "text/plain": [
              "<IPython.core.display.HTML object>"
            ]
          },
          "metadata": {
            "tags": []
          }
        },
        {
          "output_type": "display_data",
          "data": {
            "text/html": [
              "<span style=\"color:cyan\"> |-default: relu</span>"
            ],
            "text/plain": [
              "<IPython.core.display.HTML object>"
            ]
          },
          "metadata": {
            "tags": []
          }
        },
        {
          "output_type": "display_data",
          "data": {
            "text/html": [
              "<span style=\"color:blue\"> |-ordered: False</span>"
            ],
            "text/plain": [
              "<IPython.core.display.HTML object>"
            ]
          },
          "metadata": {
            "tags": []
          }
        },
        {
          "output_type": "display_data",
          "data": {
            "text/html": [
              "<span style=\"color:cyan\"> |-values: ['relu', 'tanh', 'sigmoid']</span>"
            ],
            "text/plain": [
              "<IPython.core.display.HTML object>"
            ]
          },
          "metadata": {
            "tags": []
          }
        },
        {
          "output_type": "display_data",
          "data": {
            "text/html": [
              "<span style=\"color:#7E57C2\"><h2 style=\"font-size:16px\">learning_rate (Float)</h2></span>"
            ],
            "text/plain": [
              "<IPython.core.display.HTML object>"
            ]
          },
          "metadata": {
            "tags": []
          }
        },
        {
          "output_type": "display_data",
          "data": {
            "text/html": [
              "<span style=\"color:cyan\"> |-default: 0.0001</span>"
            ],
            "text/plain": [
              "<IPython.core.display.HTML object>"
            ]
          },
          "metadata": {
            "tags": []
          }
        },
        {
          "output_type": "display_data",
          "data": {
            "text/html": [
              "<span style=\"color:blue\"> |-max_value: 0.01</span>"
            ],
            "text/plain": [
              "<IPython.core.display.HTML object>"
            ]
          },
          "metadata": {
            "tags": []
          }
        },
        {
          "output_type": "display_data",
          "data": {
            "text/html": [
              "<span style=\"color:cyan\"> |-min_value: 0.0001</span>"
            ],
            "text/plain": [
              "<IPython.core.display.HTML object>"
            ]
          },
          "metadata": {
            "tags": []
          }
        },
        {
          "output_type": "display_data",
          "data": {
            "text/html": [
              "<span style=\"color:blue\"> |-sampling: log</span>"
            ],
            "text/plain": [
              "<IPython.core.display.HTML object>"
            ]
          },
          "metadata": {
            "tags": []
          }
        },
        {
          "output_type": "display_data",
          "data": {
            "text/html": [
              "<span style=\"color:cyan\"> |-step: None</span>"
            ],
            "text/plain": [
              "<IPython.core.display.HTML object>"
            ]
          },
          "metadata": {
            "tags": []
          }
        }
      ]
    },
    {
      "cell_type": "code",
      "metadata": {
        "id": "3Jo_89zTfyWK",
        "colab_type": "code",
        "outputId": "c5555bec-56bf-4183-887d-800638f8b6c5",
        "colab": {
          "base_uri": "https://localhost:8080/",
          "height": 35
        }
      },
      "source": [
        "tuner.search(x_train_final,y_train,epochs=10, validation_data=(x_val_final,y_val))"
      ],
      "execution_count": 0,
      "outputs": [
        {
          "output_type": "stream",
          "text": [
            "INFO:tensorflow:Oracle triggered exit\n"
          ],
          "name": "stdout"
        }
      ]
    },
    {
      "cell_type": "markdown",
      "metadata": {
        "id": "YXaYxv7ImoB0",
        "colab_type": "text"
      },
      "source": [
        "### Get the best model"
      ]
    },
    {
      "cell_type": "code",
      "metadata": {
        "id": "TTZsL2SoiPm4",
        "colab_type": "code",
        "colab": {}
      },
      "source": [
        "final_model = tuner.get_best_models(num_models=1)[0]"
      ],
      "execution_count": 0,
      "outputs": []
    },
    {
      "cell_type": "code",
      "metadata": {
        "id": "x--itczLkUzm",
        "colab_type": "code",
        "outputId": "1544c40a-20d0-4827-e3c8-4104b73dc12e",
        "colab": {
          "base_uri": "https://localhost:8080/",
          "height": 641
        }
      },
      "source": [
        "final_model.summary()"
      ],
      "execution_count": 0,
      "outputs": [
        {
          "output_type": "stream",
          "text": [
            "Model: \"sequential\"\n",
            "_________________________________________________________________\n",
            "Layer (type)                 Output Shape              Param #   \n",
            "=================================================================\n",
            "conv2d (Conv2D)              (None, 32, 32, 48)        480       \n",
            "_________________________________________________________________\n",
            "max_pooling2d (MaxPooling2D) (None, 16, 16, 48)        0         \n",
            "_________________________________________________________________\n",
            "dropout (Dropout)            (None, 16, 16, 48)        0         \n",
            "_________________________________________________________________\n",
            "conv2d_1 (Conv2D)            (None, 16, 16, 92)        110492    \n",
            "_________________________________________________________________\n",
            "max_pooling2d_1 (MaxPooling2 (None, 8, 8, 92)          0         \n",
            "_________________________________________________________________\n",
            "dropout_1 (Dropout)          (None, 8, 8, 92)          0         \n",
            "_________________________________________________________________\n",
            "conv2d_2 (Conv2D)            (None, 8, 8, 127)         292227    \n",
            "_________________________________________________________________\n",
            "max_pooling2d_2 (MaxPooling2 (None, 4, 4, 127)         0         \n",
            "_________________________________________________________________\n",
            "dropout_2 (Dropout)          (None, 4, 4, 127)         0         \n",
            "_________________________________________________________________\n",
            "flatten (Flatten)            (None, 2032)              0         \n",
            "_________________________________________________________________\n",
            "dense (Dense)                (None, 217)               441161    \n",
            "_________________________________________________________________\n",
            "dropout_3 (Dropout)          (None, 217)               0         \n",
            "_________________________________________________________________\n",
            "dense_1 (Dense)              (None, 43)                9374      \n",
            "=================================================================\n",
            "Total params: 853,734\n",
            "Trainable params: 853,734\n",
            "Non-trainable params: 0\n",
            "_________________________________________________________________\n"
          ],
          "name": "stdout"
        }
      ]
    },
    {
      "cell_type": "markdown",
      "metadata": {
        "id": "E4GNcwTamsYS",
        "colab_type": "text"
      },
      "source": [
        "### Creating a Model Checkpoint"
      ]
    },
    {
      "cell_type": "code",
      "metadata": {
        "id": "lLQ5vs52k44x",
        "colab_type": "code",
        "colab": {}
      },
      "source": [
        "filepath=\"/content/drive/My Drive/Traffic_sign_Dataset/Traffic_Sign_Classifier_CNN.hdf5\"\n",
        "checkpoint_conv = ModelCheckpoint(filepath, monitor='val_accuracy', verbose=1, save_best_only=True, mode='max')\n",
        "callbacks_list_conv = [checkpoint_conv]"
      ],
      "execution_count": 0,
      "outputs": []
    },
    {
      "cell_type": "markdown",
      "metadata": {
        "id": "lQeDIaB3m_Ld",
        "colab_type": "text"
      },
      "source": [
        "### Fit the model"
      ]
    },
    {
      "cell_type": "code",
      "metadata": {
        "id": "PI3l1opFHPCG",
        "colab_type": "code",
        "colab": {}
      },
      "source": [
        "BATCH_SIZE = 100\n",
        "EPOCHS = 40"
      ],
      "execution_count": 0,
      "outputs": []
    },
    {
      "cell_type": "code",
      "metadata": {
        "id": "FVrscWrJkZfp",
        "colab_type": "code",
        "outputId": "5becc57e-f8bb-4b26-adec-fee393a45b41",
        "colab": {
          "base_uri": "https://localhost:8080/",
          "height": 1000
        }
      },
      "source": [
        "history = final_model.fit(\n",
        "                            datagen.flow(x_train_final, y_train, batch_size=BATCH_SIZE), \n",
        "                            steps_per_epoch = int(np.ceil(len(x_train_final)/float(BATCH_SIZE))), \n",
        "                            epochs = EPOCHS, \n",
        "                            validation_data =(x_val_final, y_val),\n",
        "                            shuffle = True,\n",
        "                            callbacks=callbacks_list_conv\n",
        "                          )\n"
      ],
      "execution_count": 0,
      "outputs": [
        {
          "output_type": "stream",
          "text": [
            "Epoch 1/40\n",
            "348/348 [==============================] - ETA: 0s - loss: 0.8921 - accuracy: 0.7859\n",
            "Epoch 00001: val_accuracy improved from -inf to 0.96463, saving model to /content/drive/My Drive/Traffic_sign_Dataset/Traffic_Sign_Classifier_CNN.hdf5\n",
            "348/348 [==============================] - 15s 42ms/step - loss: 0.8921 - accuracy: 0.7859 - val_loss: 0.2930 - val_accuracy: 0.9646\n",
            "Epoch 2/40\n",
            "347/348 [============================>.] - ETA: 0s - loss: 0.6854 - accuracy: 0.8429\n",
            "Epoch 00002: val_accuracy did not improve from 0.96463\n",
            "348/348 [==============================] - 12s 36ms/step - loss: 0.6854 - accuracy: 0.8429 - val_loss: 0.2885 - val_accuracy: 0.9637\n",
            "Epoch 3/40\n",
            "348/348 [==============================] - ETA: 0s - loss: 0.6061 - accuracy: 0.8646\n",
            "Epoch 00003: val_accuracy improved from 0.96463 to 0.96735, saving model to /content/drive/My Drive/Traffic_sign_Dataset/Traffic_Sign_Classifier_CNN.hdf5\n",
            "348/348 [==============================] - 14s 41ms/step - loss: 0.6061 - accuracy: 0.8646 - val_loss: 0.2792 - val_accuracy: 0.9673\n",
            "Epoch 4/40\n",
            "348/348 [==============================] - ETA: 0s - loss: 0.5596 - accuracy: 0.8811\n",
            "Epoch 00004: val_accuracy improved from 0.96735 to 0.97438, saving model to /content/drive/My Drive/Traffic_sign_Dataset/Traffic_Sign_Classifier_CNN.hdf5\n",
            "348/348 [==============================] - 14s 41ms/step - loss: 0.5596 - accuracy: 0.8811 - val_loss: 0.2707 - val_accuracy: 0.9744\n",
            "Epoch 5/40\n",
            "348/348 [==============================] - ETA: 0s - loss: 0.5243 - accuracy: 0.8916\n",
            "Epoch 00005: val_accuracy improved from 0.97438 to 0.97914, saving model to /content/drive/My Drive/Traffic_sign_Dataset/Traffic_Sign_Classifier_CNN.hdf5\n",
            "348/348 [==============================] - 14s 42ms/step - loss: 0.5243 - accuracy: 0.8916 - val_loss: 0.2604 - val_accuracy: 0.9791\n",
            "Epoch 6/40\n",
            "347/348 [============================>.] - ETA: 0s - loss: 0.4975 - accuracy: 0.9009\n",
            "Epoch 00006: val_accuracy did not improve from 0.97914\n",
            "348/348 [==============================] - 13s 38ms/step - loss: 0.4972 - accuracy: 0.9011 - val_loss: 0.2525 - val_accuracy: 0.9785\n",
            "Epoch 7/40\n",
            "348/348 [==============================] - ETA: 0s - loss: 0.4719 - accuracy: 0.9098\n",
            "Epoch 00007: val_accuracy improved from 0.97914 to 0.98095, saving model to /content/drive/My Drive/Traffic_sign_Dataset/Traffic_Sign_Classifier_CNN.hdf5\n",
            "348/348 [==============================] - 14s 40ms/step - loss: 0.4719 - accuracy: 0.9098 - val_loss: 0.2545 - val_accuracy: 0.9810\n",
            "Epoch 8/40\n",
            "347/348 [============================>.] - ETA: 0s - loss: 0.4649 - accuracy: 0.9105\n",
            "Epoch 00008: val_accuracy did not improve from 0.98095\n",
            "348/348 [==============================] - 12s 36ms/step - loss: 0.4648 - accuracy: 0.9105 - val_loss: 0.2660 - val_accuracy: 0.9730\n",
            "Epoch 9/40\n",
            "347/348 [============================>.] - ETA: 0s - loss: 0.4422 - accuracy: 0.9183\n",
            "Epoch 00009: val_accuracy did not improve from 0.98095\n",
            "348/348 [==============================] - 12s 36ms/step - loss: 0.4419 - accuracy: 0.9184 - val_loss: 0.2515 - val_accuracy: 0.9766\n",
            "Epoch 10/40\n",
            "347/348 [============================>.] - ETA: 0s - loss: 0.4289 - accuracy: 0.9203\n",
            "Epoch 00010: val_accuracy did not improve from 0.98095\n",
            "348/348 [==============================] - 12s 36ms/step - loss: 0.4291 - accuracy: 0.9203 - val_loss: 0.2447 - val_accuracy: 0.9789\n",
            "Epoch 11/40\n",
            "347/348 [============================>.] - ETA: 0s - loss: 0.4171 - accuracy: 0.9240\n",
            "Epoch 00011: val_accuracy improved from 0.98095 to 0.98322, saving model to /content/drive/My Drive/Traffic_sign_Dataset/Traffic_Sign_Classifier_CNN.hdf5\n",
            "348/348 [==============================] - 14s 41ms/step - loss: 0.4171 - accuracy: 0.9240 - val_loss: 0.2319 - val_accuracy: 0.9832\n",
            "Epoch 12/40\n",
            "348/348 [==============================] - ETA: 0s - loss: 0.4154 - accuracy: 0.9236\n",
            "Epoch 00012: val_accuracy did not improve from 0.98322\n",
            "348/348 [==============================] - 12s 35ms/step - loss: 0.4154 - accuracy: 0.9236 - val_loss: 0.2504 - val_accuracy: 0.9753\n",
            "Epoch 13/40\n",
            "348/348 [==============================] - ETA: 0s - loss: 0.3990 - accuracy: 0.9295\n",
            "Epoch 00013: val_accuracy did not improve from 0.98322\n",
            "348/348 [==============================] - 12s 35ms/step - loss: 0.3990 - accuracy: 0.9295 - val_loss: 0.2319 - val_accuracy: 0.9830\n",
            "Epoch 14/40\n",
            "348/348 [==============================] - ETA: 0s - loss: 0.3945 - accuracy: 0.9309\n",
            "Epoch 00014: val_accuracy improved from 0.98322 to 0.98503, saving model to /content/drive/My Drive/Traffic_sign_Dataset/Traffic_Sign_Classifier_CNN.hdf5\n",
            "348/348 [==============================] - 14s 41ms/step - loss: 0.3945 - accuracy: 0.9309 - val_loss: 0.2297 - val_accuracy: 0.9850\n",
            "Epoch 15/40\n",
            "348/348 [==============================] - ETA: 0s - loss: 0.3858 - accuracy: 0.9328\n",
            "Epoch 00015: val_accuracy did not improve from 0.98503\n",
            "348/348 [==============================] - 12s 35ms/step - loss: 0.3858 - accuracy: 0.9328 - val_loss: 0.2244 - val_accuracy: 0.9837\n",
            "Epoch 16/40\n",
            "348/348 [==============================] - ETA: 0s - loss: 0.3733 - accuracy: 0.9358\n",
            "Epoch 00016: val_accuracy did not improve from 0.98503\n",
            "348/348 [==============================] - 12s 35ms/step - loss: 0.3733 - accuracy: 0.9358 - val_loss: 0.2214 - val_accuracy: 0.9848\n",
            "Epoch 17/40\n",
            "347/348 [============================>.] - ETA: 0s - loss: 0.3769 - accuracy: 0.9349\n",
            "Epoch 00017: val_accuracy improved from 0.98503 to 0.98571, saving model to /content/drive/My Drive/Traffic_sign_Dataset/Traffic_Sign_Classifier_CNN.hdf5\n",
            "348/348 [==============================] - 14s 41ms/step - loss: 0.3766 - accuracy: 0.9350 - val_loss: 0.2185 - val_accuracy: 0.9857\n",
            "Epoch 18/40\n",
            "348/348 [==============================] - ETA: 0s - loss: 0.3674 - accuracy: 0.9378\n",
            "Epoch 00018: val_accuracy did not improve from 0.98571\n",
            "348/348 [==============================] - 13s 37ms/step - loss: 0.3674 - accuracy: 0.9378 - val_loss: 0.2238 - val_accuracy: 0.9857\n",
            "Epoch 19/40\n",
            "348/348 [==============================] - ETA: 0s - loss: 0.3619 - accuracy: 0.9392\n",
            "Epoch 00019: val_accuracy did not improve from 0.98571\n",
            "348/348 [==============================] - 12s 35ms/step - loss: 0.3619 - accuracy: 0.9392 - val_loss: 0.2215 - val_accuracy: 0.9839\n",
            "Epoch 20/40\n",
            "347/348 [============================>.] - ETA: 0s - loss: 0.3533 - accuracy: 0.9406\n",
            "Epoch 00020: val_accuracy did not improve from 0.98571\n",
            "348/348 [==============================] - 12s 35ms/step - loss: 0.3539 - accuracy: 0.9405 - val_loss: 0.2162 - val_accuracy: 0.9853\n",
            "Epoch 21/40\n",
            "347/348 [============================>.] - ETA: 0s - loss: 0.3485 - accuracy: 0.9433\n",
            "Epoch 00021: val_accuracy did not improve from 0.98571\n",
            "348/348 [==============================] - 12s 35ms/step - loss: 0.3484 - accuracy: 0.9433 - val_loss: 0.2167 - val_accuracy: 0.9855\n",
            "Epoch 22/40\n",
            "348/348 [==============================] - ETA: 0s - loss: 0.3477 - accuracy: 0.9430\n",
            "Epoch 00022: val_accuracy improved from 0.98571 to 0.98798, saving model to /content/drive/My Drive/Traffic_sign_Dataset/Traffic_Sign_Classifier_CNN.hdf5\n",
            "348/348 [==============================] - 14s 40ms/step - loss: 0.3477 - accuracy: 0.9430 - val_loss: 0.2078 - val_accuracy: 0.9880\n",
            "Epoch 23/40\n",
            "348/348 [==============================] - ETA: 0s - loss: 0.3442 - accuracy: 0.9436\n",
            "Epoch 00023: val_accuracy did not improve from 0.98798\n",
            "348/348 [==============================] - 13s 37ms/step - loss: 0.3442 - accuracy: 0.9436 - val_loss: 0.2105 - val_accuracy: 0.9862\n",
            "Epoch 24/40\n",
            "348/348 [==============================] - ETA: 0s - loss: 0.3382 - accuracy: 0.9445\n",
            "Epoch 00024: val_accuracy did not improve from 0.98798\n",
            "348/348 [==============================] - 12s 35ms/step - loss: 0.3382 - accuracy: 0.9445 - val_loss: 0.2074 - val_accuracy: 0.9878\n",
            "Epoch 25/40\n",
            "348/348 [==============================] - ETA: 0s - loss: 0.3338 - accuracy: 0.9467\n",
            "Epoch 00025: val_accuracy did not improve from 0.98798\n",
            "348/348 [==============================] - 12s 35ms/step - loss: 0.3338 - accuracy: 0.9467 - val_loss: 0.2103 - val_accuracy: 0.9848\n",
            "Epoch 26/40\n",
            "348/348 [==============================] - ETA: 0s - loss: 0.3313 - accuracy: 0.9470\n",
            "Epoch 00026: val_accuracy did not improve from 0.98798\n",
            "348/348 [==============================] - 12s 35ms/step - loss: 0.3313 - accuracy: 0.9470 - val_loss: 0.2072 - val_accuracy: 0.9868\n",
            "Epoch 27/40\n",
            "347/348 [============================>.] - ETA: 0s - loss: 0.3268 - accuracy: 0.9486\n",
            "Epoch 00027: val_accuracy improved from 0.98798 to 0.98844, saving model to /content/drive/My Drive/Traffic_sign_Dataset/Traffic_Sign_Classifier_CNN.hdf5\n",
            "348/348 [==============================] - 14s 41ms/step - loss: 0.3268 - accuracy: 0.9486 - val_loss: 0.2055 - val_accuracy: 0.9884\n",
            "Epoch 28/40\n",
            "348/348 [==============================] - ETA: 0s - loss: 0.3245 - accuracy: 0.9479\n",
            "Epoch 00028: val_accuracy did not improve from 0.98844\n",
            "348/348 [==============================] - 12s 35ms/step - loss: 0.3245 - accuracy: 0.9479 - val_loss: 0.2082 - val_accuracy: 0.9853\n",
            "Epoch 29/40\n",
            "347/348 [============================>.] - ETA: 0s - loss: 0.3267 - accuracy: 0.9475\n",
            "Epoch 00029: val_accuracy did not improve from 0.98844\n",
            "348/348 [==============================] - 12s 35ms/step - loss: 0.3265 - accuracy: 0.9475 - val_loss: 0.2071 - val_accuracy: 0.9853\n",
            "Epoch 30/40\n",
            "347/348 [============================>.] - ETA: 0s - loss: 0.3229 - accuracy: 0.9488\n",
            "Epoch 00030: val_accuracy did not improve from 0.98844\n",
            "348/348 [==============================] - 12s 35ms/step - loss: 0.3227 - accuracy: 0.9489 - val_loss: 0.2030 - val_accuracy: 0.9875\n",
            "Epoch 31/40\n",
            "348/348 [==============================] - ETA: 0s - loss: 0.3157 - accuracy: 0.9509\n",
            "Epoch 00031: val_accuracy did not improve from 0.98844\n",
            "348/348 [==============================] - 12s 35ms/step - loss: 0.3157 - accuracy: 0.9509 - val_loss: 0.2080 - val_accuracy: 0.9832\n",
            "Epoch 32/40\n",
            "348/348 [==============================] - ETA: 0s - loss: 0.3132 - accuracy: 0.9516\n",
            "Epoch 00032: val_accuracy did not improve from 0.98844\n",
            "348/348 [==============================] - 13s 36ms/step - loss: 0.3132 - accuracy: 0.9516 - val_loss: 0.2009 - val_accuracy: 0.9884\n",
            "Epoch 33/40\n",
            "348/348 [==============================] - ETA: 0s - loss: 0.3119 - accuracy: 0.9507\n",
            "Epoch 00033: val_accuracy improved from 0.98844 to 0.99116, saving model to /content/drive/My Drive/Traffic_sign_Dataset/Traffic_Sign_Classifier_CNN.hdf5\n",
            "348/348 [==============================] - 14s 40ms/step - loss: 0.3119 - accuracy: 0.9507 - val_loss: 0.1913 - val_accuracy: 0.9912\n",
            "Epoch 34/40\n",
            "348/348 [==============================] - ETA: 0s - loss: 0.3112 - accuracy: 0.9511\n",
            "Epoch 00034: val_accuracy did not improve from 0.99116\n",
            "348/348 [==============================] - 12s 35ms/step - loss: 0.3112 - accuracy: 0.9511 - val_loss: 0.1986 - val_accuracy: 0.9875\n",
            "Epoch 35/40\n",
            "348/348 [==============================] - ETA: 0s - loss: 0.3103 - accuracy: 0.9507\n",
            "Epoch 00035: val_accuracy did not improve from 0.99116\n",
            "348/348 [==============================] - 12s 36ms/step - loss: 0.3103 - accuracy: 0.9507 - val_loss: 0.2022 - val_accuracy: 0.9864\n",
            "Epoch 36/40\n",
            "347/348 [============================>.] - ETA: 0s - loss: 0.3118 - accuracy: 0.9520\n",
            "Epoch 00036: val_accuracy did not improve from 0.99116\n",
            "348/348 [==============================] - 12s 36ms/step - loss: 0.3117 - accuracy: 0.9520 - val_loss: 0.1965 - val_accuracy: 0.9862\n",
            "Epoch 37/40\n",
            "348/348 [==============================] - ETA: 0s - loss: 0.3066 - accuracy: 0.9522\n",
            "Epoch 00037: val_accuracy did not improve from 0.99116\n",
            "348/348 [==============================] - 13s 37ms/step - loss: 0.3066 - accuracy: 0.9522 - val_loss: 0.1990 - val_accuracy: 0.9875\n",
            "Epoch 38/40\n",
            "348/348 [==============================] - ETA: 0s - loss: 0.3009 - accuracy: 0.9542\n",
            "Epoch 00038: val_accuracy did not improve from 0.99116\n",
            "348/348 [==============================] - 13s 37ms/step - loss: 0.3009 - accuracy: 0.9542 - val_loss: 0.1963 - val_accuracy: 0.9891\n",
            "Epoch 39/40\n",
            "348/348 [==============================] - ETA: 0s - loss: 0.3011 - accuracy: 0.9544\n",
            "Epoch 00039: val_accuracy improved from 0.99116 to 0.99161, saving model to /content/drive/My Drive/Traffic_sign_Dataset/Traffic_Sign_Classifier_CNN.hdf5\n",
            "348/348 [==============================] - 15s 42ms/step - loss: 0.3011 - accuracy: 0.9544 - val_loss: 0.1890 - val_accuracy: 0.9916\n",
            "Epoch 40/40\n",
            "347/348 [============================>.] - ETA: 0s - loss: 0.3025 - accuracy: 0.9536\n",
            "Epoch 00040: val_accuracy did not improve from 0.99161\n",
            "348/348 [==============================] - 13s 37ms/step - loss: 0.3025 - accuracy: 0.9537 - val_loss: 0.1948 - val_accuracy: 0.9866\n"
          ],
          "name": "stdout"
        }
      ]
    },
    {
      "cell_type": "code",
      "metadata": {
        "id": "gHNIDh_ScyAH",
        "colab_type": "code",
        "outputId": "76ce4903-437f-4e98-c654-e6a57cc6539f",
        "colab": {
          "base_uri": "https://localhost:8080/",
          "height": 499
        }
      },
      "source": [
        "acc = history.history['accuracy']\n",
        "val_acc = history.history['val_accuracy']\n",
        "\n",
        "loss = history.history['loss']\n",
        "val_loss = history.history['val_loss']\n",
        "\n",
        "epochs_range = range(EPOCHS)\n",
        "\n",
        "plt.figure(figsize=(8, 8))\n",
        "plt.subplot(1, 2, 1)\n",
        "plt.plot(epochs_range, acc, label='Training Accuracy')\n",
        "plt.plot(epochs_range, val_acc, label='Validation Accuracy')\n",
        "plt.legend(loc='lower right')\n",
        "plt.title('Training and Validation Accuracy')\n",
        "\n",
        "plt.subplot(1, 2, 2)\n",
        "plt.plot(epochs_range, loss, label='Training Loss')\n",
        "plt.plot(epochs_range, val_loss, label='Validation Loss')\n",
        "plt.legend(loc='upper right')\n",
        "plt.title('Training and Validation Loss')\n",
        "plt.show()"
      ],
      "execution_count": 0,
      "outputs": [
        {
          "output_type": "display_data",
          "data": {
            "image/png": "[encoded data removed]",
            "text/plain": [
              "<Figure size 576x576 with 2 Axes>"
            ]
          },
          "metadata": {
            "tags": [],
            "needs_background": "light"
          }
        }
      ]
    },
    {
      "cell_type": "markdown",
      "metadata": {
        "id": "--iQkw_ynDl5",
        "colab_type": "text"
      },
      "source": [
        "### Load the model's weights and biases for evaluation on Test set"
      ]
    },
    {
      "cell_type": "code",
      "metadata": {
        "id": "BMMCe9iWmva5",
        "colab_type": "code",
        "colab": {}
      },
      "source": [
        "final_model.load_weights(\"/content/drive/My Drive/Traffic_sign_Dataset/Traffic_Sign_Classifier_CNN.hdf5\")\n",
        "final_model.compile(loss='categorical_crossentropy', optimizer='adam', metrics=['accuracy'])"
      ],
      "execution_count": 0,
      "outputs": []
    },
    {
      "cell_type": "code",
      "metadata": {
        "id": "kZ1wzyHCm00z",
        "colab_type": "code",
        "outputId": "6001978d-cc30-4e02-ffb7-5310d09375e4",
        "colab": {
          "base_uri": "https://localhost:8080/",
          "height": 90
        }
      },
      "source": [
        "Pred_conv = final_model.evaluate(x_test_final, y_test, verbose=0)\n",
        "print(\"Results on the test data\")\n",
        "print(\" \")\n",
        "print(\"%s- %.2f\" % (final_model.metrics_names[0], Pred_conv[0]))\n",
        "print(\"%s- %.2f\" % (final_model.metrics_names[1], Pred_conv[1]))"
      ],
      "execution_count": 0,
      "outputs": [
        {
          "output_type": "stream",
          "text": [
            "Results on the test data\n",
            " \n",
            "loss- 0.28\n",
            "accuracy- 0.97\n"
          ],
          "name": "stdout"
        }
      ]
    },
    {
      "cell_type": "markdown",
      "metadata": {
        "id": "vel7XAkunRuw",
        "colab_type": "text"
      },
      "source": [
        "### Testing the model on the test dataset"
      ]
    },
    {
      "cell_type": "code",
      "metadata": {
        "id": "lfqA1LFem4z5",
        "colab_type": "code",
        "outputId": "97859b01-960f-44b9-bde5-665e8706c7e1",
        "colab": {
          "base_uri": "https://localhost:8080/",
          "height": 505
        }
      },
      "source": [
        "\n",
        "plt.imshow(x_test[990]) \n",
        "print(\"Predicted sign: \"+ str( \n",
        "        final_model.predict(x_test_final[1700].reshape(1, 32, 32, 1))))\n",
        "\n",
        "print('---------------------------------------------------------------------------')\n",
        "\n",
        "print(\"Predicted Sign\" + str(final_model.predict_classes(x_test_final[990].reshape(1, 32, 32, 1))))\n"
      ],
      "execution_count": 0,
      "outputs": [
        {
          "output_type": "stream",
          "text": [
            "Predicted sign: [[5.95169203e-09 1.33304857e-05 4.64417589e-08 8.22311179e-08\n",
            "  1.00793041e-10 1.53776520e-04 9.99824703e-01 1.95149958e-08\n",
            "  9.73634437e-11 8.61657005e-14 1.12300655e-10 1.48708246e-08\n",
            "  1.76557158e-10 6.37280367e-11 4.33579648e-12 4.28027941e-14\n",
            "  4.16811075e-09 4.14768914e-13 1.11137002e-10 2.02223966e-13\n",
            "  8.41277603e-11 2.09324294e-11 1.93099575e-14 1.83566842e-11\n",
            "  1.35439901e-12 2.13375024e-08 3.83618638e-15 9.25231853e-12\n",
            "  1.41590586e-10 1.22658272e-10 1.58779621e-08 3.06943387e-10\n",
            "  1.85403493e-07 4.32619947e-11 1.45089789e-12 2.15373902e-13\n",
            "  8.96582461e-12 1.05680924e-11 1.87089766e-09 6.98752445e-11\n",
            "  7.32631733e-10 4.96747754e-09 7.83890482e-06]]\n",
            "---------------------------------------------------------------------------\n",
            "Predicted Sign[0]\n"
          ],
          "name": "stdout"
        },
        {
          "output_type": "display_data",
          "data": {
            "image/png": "[encoded data removed]",
            "text/plain": [
              "<Figure size 432x288 with 1 Axes>"
            ]
          },
          "metadata": {
            "tags": [],
            "needs_background": "light"
          }
        }
      ]
    },
    {
      "cell_type": "markdown",
      "metadata": {
        "id": "mrbxLqyovv0f",
        "colab_type": "text"
      },
      "source": [
        "### Save the model"
      ]
    },
    {
      "cell_type": "code",
      "metadata": {
        "id": "ygfiDJ0pnVxv",
        "colab_type": "code",
        "colab": {}
      },
      "source": [
        "final_model.save('/content/drive/My Drive/Traffic_sign_Dataset/Traffic_Sign_Classifier_CNN.hdf5')"
      ],
      "execution_count": 0,
      "outputs": []
    },
    {
      "cell_type": "markdown",
      "metadata": {
        "id": "DN7YN0GwvyoA",
        "colab_type": "text"
      },
      "source": [
        "### Loading the saved model "
      ]
    },
    {
      "cell_type": "code",
      "metadata": {
        "id": "UdkbTnFqncvc",
        "colab_type": "code",
        "outputId": "352a767d-5316-4bfc-fa28-c54ac97c7645",
        "colab": {
          "base_uri": "https://localhost:8080/",
          "height": 641
        }
      },
      "source": [
        "loaded_model = tf.keras.models.load_model('/content/drive/My Drive/Traffic_sign_Dataset/Traffic_Sign_Classifier_CNN.hdf5')\n",
        "\n",
        "loaded_model.summary()"
      ],
      "execution_count": 0,
      "outputs": [
        {
          "output_type": "stream",
          "text": [
            "Model: \"sequential\"\n",
            "_________________________________________________________________\n",
            "Layer (type)                 Output Shape              Param #   \n",
            "=================================================================\n",
            "conv2d (Conv2D)              (None, 32, 32, 48)        480       \n",
            "_________________________________________________________________\n",
            "max_pooling2d (MaxPooling2D) (None, 16, 16, 48)        0         \n",
            "_________________________________________________________________\n",
            "dropout (Dropout)            (None, 16, 16, 48)        0         \n",
            "_________________________________________________________________\n",
            "conv2d_1 (Conv2D)            (None, 16, 16, 92)        110492    \n",
            "_________________________________________________________________\n",
            "max_pooling2d_1 (MaxPooling2 (None, 8, 8, 92)          0         \n",
            "_________________________________________________________________\n",
            "dropout_1 (Dropout)          (None, 8, 8, 92)          0         \n",
            "_________________________________________________________________\n",
            "conv2d_2 (Conv2D)            (None, 8, 8, 127)         292227    \n",
            "_________________________________________________________________\n",
            "max_pooling2d_2 (MaxPooling2 (None, 4, 4, 127)         0         \n",
            "_________________________________________________________________\n",
            "dropout_2 (Dropout)          (None, 4, 4, 127)         0         \n",
            "_________________________________________________________________\n",
            "flatten (Flatten)            (None, 2032)              0         \n",
            "_________________________________________________________________\n",
            "dense (Dense)                (None, 217)               441161    \n",
            "_________________________________________________________________\n",
            "dropout_3 (Dropout)          (None, 217)               0         \n",
            "_________________________________________________________________\n",
            "dense_1 (Dense)              (None, 43)                9374      \n",
            "=================================================================\n",
            "Total params: 853,734\n",
            "Trainable params: 853,734\n",
            "Non-trainable params: 0\n",
            "_________________________________________________________________\n"
          ],
          "name": "stdout"
        }
      ]
    },
    {
      "cell_type": "markdown",
      "metadata": {
        "id": "T02omtWWv22P",
        "colab_type": "text"
      },
      "source": [
        "### Making predictions with the loaded model "
      ]
    },
    {
      "cell_type": "code",
      "metadata": {
        "id": "eH6japacnc1B",
        "colab_type": "code",
        "outputId": "0ced043a-6325-4c4a-f3bc-2219298a144c",
        "colab": {
          "base_uri": "https://localhost:8080/",
          "height": 468
        }
      },
      "source": [
        "plt.imshow(x_test[1832]) \n",
        "print(\"Predicted sign: \"+ str( \n",
        "        loaded_model.predict(x_test_final[1832].reshape(1, 32, 32, 1))))\n",
        "\n",
        "print('---------------------------------------------------------------------------')\n",
        "\n",
        "print(\"Predicted Sign\" + str(loaded_model.predict_classes(x_test_final[1832].reshape(1, 32, 32, 1))))"
      ],
      "execution_count": 0,
      "outputs": [
        {
          "output_type": "stream",
          "text": [
            "Predicted sign: [[3.4522889e-09 3.0688585e-05 1.5866694e-04 6.6440302e-04 9.7419296e-08\n",
            "  9.9902177e-01 2.3465546e-07 1.2172624e-04 3.9090730e-07 6.0086491e-10\n",
            "  1.9281763e-06 3.9314019e-10 1.6360911e-10 1.6927328e-11 9.1467207e-12\n",
            "  4.2105062e-09 1.8575383e-09 6.3886010e-14 8.1647151e-13 6.6127317e-13\n",
            "  1.0216057e-11 8.7105871e-11 6.1265622e-14 1.7995303e-12 1.5983633e-12\n",
            "  4.2088120e-09 1.9983780e-13 1.0291361e-13 1.2473573e-11 3.9872386e-10\n",
            "  1.2319692e-08 1.6544118e-09 1.6150135e-11 5.6740823e-10 4.3921977e-11\n",
            "  3.0515163e-11 2.1255560e-12 2.0931132e-12 7.5120399e-09 3.6280859e-12\n",
            "  1.9607171e-09 3.6935528e-15 8.9487511e-09]]\n",
            "---------------------------------------------------------------------------\n",
            "Predicted Sign[5]\n"
          ],
          "name": "stdout"
        },
        {
          "output_type": "display_data",
          "data": {
            "image/png": "[encoded data removed]",
            "text/plain": [
              "<Figure size 432x288 with 1 Axes>"
            ]
          },
          "metadata": {
            "tags": [],
            "needs_background": "light"
          }
        }
      ]
    },
    {
      "cell_type": "markdown",
      "metadata": {
        "id": "qPc0G00_v7wW",
        "colab_type": "text"
      },
      "source": [
        "### Testing our saved model on random traffic sign images\n",
        "\n",
        "\n",
        "\n"
      ]
    },
    {
      "cell_type": "code",
      "metadata": {
        "id": "29o5hhOLnwCa",
        "colab_type": "code",
        "outputId": "5a6bbd45-602c-48dc-ca2f-66f30acece8e",
        "colab": {
          "base_uri": "https://localhost:8080/",
          "height": 35
        }
      },
      "source": [
        "from tensorflow.keras.models import load_model\n",
        "\n",
        "import cv2\n",
        "\n",
        "import numpy as np\n",
        "\n",
        "final_model = load_model('/content/drive/My Drive/Traffic_sign_Dataset/Traffic_Sign_Classifier_CNN.hdf5')\n",
        "\n",
        "img = cv2.imread('/content/drive/My Drive/Traffic_sign_Dataset/Test Random Images/go straight or right.png')\n",
        "\n",
        "img = cv2.cvtColor(img, cv2.COLOR_BGR2GRAY) \n",
        "\n",
        "img = img / 255\n",
        "\n",
        "img = cv2.resize(img,(32,32))\n",
        "\n",
        "img = np.reshape(img,[1,32,32,1])\n",
        "\n",
        "classes = final_model.predict_classes(img)\n",
        "\n",
        "print(classes)"
      ],
      "execution_count": 0,
      "outputs": [
        {
          "output_type": "stream",
          "text": [
            "[36]\n"
          ],
          "name": "stdout"
        }
      ]
    },
    {
      "cell_type": "code",
      "metadata": {
        "id": "hBPbatbDRj4x",
        "colab_type": "code",
        "colab": {}
      },
      "source": [
        ""
      ],
      "execution_count": 0,
      "outputs": []
    }
  ]
}